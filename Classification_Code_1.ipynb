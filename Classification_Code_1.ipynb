{
  "nbformat": 4,
  "nbformat_minor": 0,
  "metadata": {
    "colab": {
      "provenance": [],
      "include_colab_link": true
    },
    "kernelspec": {
      "name": "python3",
      "display_name": "Python 3"
    },
    "accelerator": "GPU"
  },
  "cells": [
    {
      "cell_type": "markdown",
      "metadata": {
        "id": "view-in-github",
        "colab_type": "text"
      },
      "source": [
        "<a href=\"https://colab.research.google.com/github/Hamed-Mohammadi/covid_19_uni_project/blob/main/Classification_Code_1.ipynb\" target=\"_parent\"><img src=\"https://colab.research.google.com/assets/colab-badge.svg\" alt=\"Open In Colab\"/></a>"
      ]
    },
    {
      "cell_type": "markdown",
      "metadata": {
        "id": "gyG4OC_n_Bgb"
      },
      "source": [
        "CoroNet: COVID19 Chest XRays classification model \n",
        "By Dr Asif Iqbal Khan\n",
        "\n",
        "\n",
        "The model uses Xception/InceptionResNetV2/NasNet as base model pre-trained on ImageNet, retrained on Chest X-rays dataset \n",
        "\n",
        "\n",
        "\n"
      ]
    },
    {
      "cell_type": "code",
      "metadata": {
        "id": "tNC-YH9KeQ7-"
      },
      "source": [
        "#Download and unzip dataset if reqiored\n",
        "\n",
        "#!gdown https://link to dataset\n",
        "#!unzip /content/covid19-radiography-database.zip\n"
      ],
      "execution_count": null,
      "outputs": []
    },
    {
      "cell_type": "markdown",
      "metadata": {
        "id": "dDmE5_NHRagI"
      },
      "source": [
        "Mount Gogle Drive to save and load models n datasets"
      ]
    },
    {
      "cell_type": "code",
      "metadata": {
        "id": "tyAhoZAvfDXR",
        "colab": {
          "base_uri": "https://localhost:8080/"
        },
        "outputId": "9a26f83a-1d73-4c0c-d3a3-cf91cdab669c"
      },
      "source": [
        "#Mount Google Drive\n",
        "\n",
        "\n",
        "from google.colab import drive\n",
        "drive.mount('/content/drive')"
      ],
      "execution_count": 2,
      "outputs": [
        {
          "output_type": "stream",
          "name": "stdout",
          "text": [
            "Mounted at /content/drive\n"
          ]
        }
      ]
    },
    {
      "cell_type": "code",
      "metadata": {
        "id": "prEpiZCC5HYY"
      },
      "source": [
        "#copy dataset folder from google drive\n",
        "#!cp -R /content/drive/\"My Drive\"/Datasets/covid-19 /content\n"
      ],
      "execution_count": null,
      "outputs": []
    },
    {
      "cell_type": "code",
      "metadata": {
        "id": "JHtRS9Wf9mZc"
      },
      "source": [
        "#import libraries and packages\n",
        "\n",
        "from numpy.random import seed\n",
        "seed(8) #1\n",
        "\n",
        "import tensorflow\n",
        "tensorflow.random.set_seed(7)\n",
        "\n",
        "import numpy as np # linear algebra\n",
        "import pandas as pd # data processing, CSV file I/O (e.g. pd.read_csv)\n",
        "\n",
        "import os\n",
        "\n",
        "from tensorflow.keras import backend as K\n",
        "from tensorflow.keras.models import Model ,load_model, Sequential\n",
        "from tensorflow.keras.layers import Flatten, Dense, Dropout\n",
        "from tensorflow.keras.applications.inception_resnet_v2 import InceptionResNetV2, preprocess_input\n",
        "from keras.applications.vgg16 import preprocess_input\n",
        "from keras.applications.vgg16 import decode_predictions\n",
        "from keras.applications.vgg16 import VGG16\n",
        "from tensorflow.keras.optimizers import Adam, RMSprop\n",
        "from tensorflow.keras.preprocessing.image import ImageDataGenerator\n",
        "from tensorflow.keras.callbacks import ModelCheckpoint\n",
        "import numpy as np\n",
        "import tensorflow as tf\n",
        "\n",
        "from tensorflow.python.keras import models\n",
        "from tensorflow.python.keras import layers\n",
        "\n",
        "from tensorflow.keras import optimizers\n",
        "\n",
        "\n"
      ],
      "execution_count": 3,
      "outputs": []
    },
    {
      "cell_type": "code",
      "metadata": {
        "id": "cvTuKxbA_6Qx",
        "outputId": "2cb032fb-d6e9-44eb-f7f9-274867399926",
        "colab": {
          "base_uri": "https://localhost:8080/"
        }
      },
      "source": [
        "print(os.listdir(\"/content/\"))\n",
        "\n",
        "#Print and remove zips once done\n",
        "\n"
      ],
      "execution_count": 4,
      "outputs": [
        {
          "output_type": "stream",
          "name": "stdout",
          "text": [
            "['.config', 'drive', 'sample_data']\n"
          ]
        }
      ]
    },
    {
      "cell_type": "code",
      "metadata": {
        "id": "y8o_f_kN07sV",
        "outputId": "69c33067-ff65-4cdf-de81-67fa5a98e2af",
        "colab": {
          "base_uri": "https://localhost:8080/"
        }
      },
      "source": [
        "ls /content/drive/MyDrive/'Colab Notebooks'/'covid 19'/classification_dataset/four_classes/train"
      ],
      "execution_count": 5,
      "outputs": [
        {
          "output_type": "stream",
          "name": "stdout",
          "text": [
            "ls: cannot access '/content/drive/MyDrive/Colab Notebooks/covid 19/classification_dataset/four_classes/train': No such file or directory\n"
          ]
        }
      ]
    },
    {
      "cell_type": "code",
      "source": [
        "from os import listdir\n",
        "#data_list = listdir('/content/covid-19/four_classes/train')\n",
        "data_list = listdir('/content/drive/MyDrive/Colab_Notebooks/covid_19/data_set/four_classes/train')\n",
        "data_list"
      ],
      "metadata": {
        "colab": {
          "base_uri": "https://localhost:8080/"
        },
        "id": "1cBy3ToUftzn",
        "outputId": "e9778f71-08d1-49f6-b86a-e3ed00fe9d06"
      },
      "execution_count": 6,
      "outputs": [
        {
          "output_type": "execute_result",
          "data": {
            "text/plain": [
              "['pneumonia_viral', 'pneumonia_bacterial', 'normal', 'covid']"
            ]
          },
          "metadata": {},
          "execution_count": 6
        }
      ]
    },
    {
      "cell_type": "markdown",
      "metadata": {
        "id": "SW7NXqkh-Gk8"
      },
      "source": [
        "**Crete Data Generators to preprocess and prepare training and validation**"
      ]
    },
    {
      "cell_type": "code",
      "metadata": {
        "id": "0BfmpmKd-JOb",
        "colab": {
          "base_uri": "https://localhost:8080/"
        },
        "outputId": "79e02645-215c-4700-fd81-6c3dd1801aed"
      },
      "source": [
        "\n",
        "from os import listdir\n",
        "#data_list = listdir('/content/covid-19/four_classes/train')\n",
        "data_list = listdir(\"/content/drive/MyDrive/Colab_Notebooks/covid_19/data_set/four_classes/train\")\n",
        "\n",
        "#Delete some classes that may interfere\n",
        "\n",
        "print(len(data_list))\n",
        "\n",
        "\n",
        "DATASET_PATH  = '/content/drive/MyDrive/Colab_Notebooks/covid_19/data_set/four_classes/train'\n",
        "test_dir =  '/content/drive/MyDrive/Colab_Notebooks/covid_19/data_set/four_classes/test'\n",
        "IMAGE_SIZE    = (150, 150)\n",
        "NUM_CLASSES   = len(data_list)\n",
        "BATCH_SIZE    = 10  # try reducing batch size or freeze more layers if your GPU runs out of memory\n",
        "NUM_EPOCHS    = 80\n",
        "LEARNING_RATE =0.0001\n",
        "\n",
        "\n",
        "\n",
        "#Train datagen here is a preprocessor\n",
        "train_datagen = ImageDataGenerator(rescale=1./255,\n",
        "                                   rotation_range=50,\n",
        "                                   featurewise_center = True,\n",
        "                                   featurewise_std_normalization = True,\n",
        "                                   width_shift_range=0.2,\n",
        "                                   height_shift_range=0.2,\n",
        "                                   shear_range=0.25,\n",
        "                                   zoom_range=0.1,\n",
        "                                   zca_whitening = True,\n",
        "                                   channel_shift_range = 20,\n",
        "                                   horizontal_flip = True ,\n",
        "                                   vertical_flip = True ,\n",
        "                                   validation_split = 0.2,\n",
        "                                   fill_mode='constant')\n",
        "\n",
        "\n",
        "\n",
        "# For multiclass use categorical n for binary use binary\n",
        "train_batches = train_datagen.flow_from_directory(DATASET_PATH, \n",
        "                                                  target_size=IMAGE_SIZE,\n",
        "                                                  shuffle=True,\n",
        "                                                  batch_size=BATCH_SIZE,\n",
        "                                                  subset = \"training\",\n",
        "                                                  seed=42,\n",
        "                                                  class_mode=\"categorical\"\n",
        "                                                  )\n",
        "\n",
        "valid_batches = train_datagen.flow_from_directory(DATASET_PATH,\n",
        "                                                  target_size=IMAGE_SIZE,\n",
        "                                                  shuffle=True,\n",
        "                                                  batch_size=BATCH_SIZE,\n",
        "                                                  subset = \"validation\",\n",
        "                                                  seed=42,\n",
        "                                                  class_mode=\"categorical\"\n",
        "                                                  )\n",
        "\n"
      ],
      "execution_count": 7,
      "outputs": [
        {
          "output_type": "stream",
          "name": "stdout",
          "text": [
            "4\n",
            "Found 1119 images belonging to 4 classes.\n",
            "Found 277 images belonging to 4 classes.\n"
          ]
        },
        {
          "output_type": "stream",
          "name": "stderr",
          "text": [
            "/usr/local/lib/python3.9/dist-packages/keras/preprocessing/image.py:1451: UserWarning: This ImageDataGenerator specifies `zca_whitening` which overrides setting of`featurewise_std_normalization`.\n",
            "  warnings.warn(\n"
          ]
        }
      ]
    },
    {
      "cell_type": "code",
      "metadata": {
        "id": "i7748nBfIzv1",
        "colab": {
          "base_uri": "https://localhost:8080/"
        },
        "outputId": "0849923f-0419-491f-c8fa-fa6122413cf8"
      },
      "source": [
        "path=\"/content/covid-19/four_classes/\"\n",
        "!ls -a /content/drive/MyDrive/Colab_Notebooks/covid_19/data_set/four_classes/train/.ipynb_checkpoints\n",
        "!rm -R /content/drive/MyDrive/Colab_Notebooks/covid_19/data_set/four_classes/test/.ipynb_checkpoints \n",
        "!pwd"
      ],
      "execution_count": 8,
      "outputs": [
        {
          "output_type": "stream",
          "name": "stdout",
          "text": [
            "ls: cannot access '/content/drive/MyDrive/Colab_Notebooks/covid_19/data_set/four_classes/train/.ipynb_checkpoints': No such file or directory\n",
            "rm: cannot remove '/content/drive/MyDrive/Colab_Notebooks/covid_19/data_set/four_classes/test/.ipynb_checkpoints': No such file or directory\n",
            "/content\n"
          ]
        }
      ]
    },
    {
      "cell_type": "markdown",
      "metadata": {
        "id": "Arc_63PU-O5K"
      },
      "source": [
        "Create a new model or Use Pre trained CNN Model and modify according to the need. "
      ]
    },
    {
      "cell_type": "code",
      "metadata": {
        "id": "lyGm7tYQBBr1",
        "colab": {
          "base_uri": "https://localhost:8080/"
        },
        "outputId": "d8ad5c89-cc60-448a-bf4e-1c23ec8dc472"
      },
      "source": [
        "#Simple CNN model based on Xception. Set dense layer neuron count same as the no. of output classes \n",
        "#If you wnna use a saved model then skip this step\n",
        "\n",
        "\n",
        "from tensorflow.keras.applications import Xception\n",
        "\n",
        "conv_base = Xception(weights='imagenet',\n",
        "                  include_top=False,\n",
        "                  input_shape=(150, 150, 3))\n",
        "\n",
        "conv_base.trainable = True\n",
        "\n",
        "K.clear_session()\n",
        "model = Sequential([\n",
        "    conv_base,\n",
        "    Flatten(name='Flatten'),\n",
        "    Dropout(0.5, name='Dropout'),\n",
        "    Dense(256, activation='relu', name='Dense'),\n",
        "    Dense(4, activation='softmax', name='Dence_1')\n",
        "])\n",
        "# model.add(conv_base)\n",
        "\n",
        "\n",
        "\n",
        "\n",
        "# model.add(layers.Flatten(name='Flatten'))\n",
        "# model.add(layers.Dropout(0.5, name='Dropout'))\n",
        "# model.add(layers.Dense(256, activation='relu', name='Dense'))\n",
        "# model.add(layers.Dense(4, activation='softmax', name='Dence_1'))\n",
        "\n",
        "\n",
        "model.compile(optimizer=Adam(learning_rate=LEARNING_RATE),loss='categorical_crossentropy',metrics=['acc'])\n"
      ],
      "execution_count": 9,
      "outputs": [
        {
          "output_type": "stream",
          "name": "stdout",
          "text": [
            "Downloading data from https://storage.googleapis.com/tensorflow/keras-applications/xception/xception_weights_tf_dim_ordering_tf_kernels_notop.h5\n",
            "83683744/83683744 [==============================] - 0s 0us/step\n"
          ]
        }
      ]
    },
    {
      "cell_type": "markdown",
      "metadata": {
        "id": "Ys977cbc6F_T"
      },
      "source": [
        "**Load an already saved model (If there is a trained model already saved on drive)**"
      ]
    },
    {
      "cell_type": "code",
      "metadata": {
        "id": "GKDLJZjL-UlA",
        "outputId": "5fdabf7f-769d-446e-fd8d-67ece8beeecc",
        "colab": {
          "base_uri": "https://localhost:8080/"
        }
      },
      "source": [
        "#Load saved model from .hs file, otherwise disable this line\n",
        "# model=load_model('/content/drive/My Drive/Colab Notebooks/4-class-Covid19-Mod-Xception.h5')\n",
        "print(model.summary())\n"
      ],
      "execution_count": 10,
      "outputs": [
        {
          "output_type": "stream",
          "name": "stdout",
          "text": [
            "Model: \"sequential\"\n",
            "_________________________________________________________________\n",
            " Layer (type)                Output Shape              Param #   \n",
            "=================================================================\n",
            " xception (Functional)       (None, 5, 5, 2048)        20861480  \n",
            "                                                                 \n",
            " Flatten (Flatten)           (None, 51200)             0         \n",
            "                                                                 \n",
            " Dropout (Dropout)           (None, 51200)             0         \n",
            "                                                                 \n",
            " Dense (Dense)               (None, 256)               13107456  \n",
            "                                                                 \n",
            " Dence_1 (Dense)             (None, 4)                 1028      \n",
            "                                                                 \n",
            "=================================================================\n",
            "Total params: 33,969,964\n",
            "Trainable params: 33,915,436\n",
            "Non-trainable params: 54,528\n",
            "_________________________________________________________________\n",
            "None\n"
          ]
        }
      ]
    },
    {
      "cell_type": "markdown",
      "metadata": {
        "id": "qh3QQZLz-yLW"
      },
      "source": [
        "Training"
      ]
    },
    {
      "cell_type": "code",
      "metadata": {
        "id": "F7IwDhx5-iKe",
        "colab": {
          "base_uri": "https://localhost:8080/"
        },
        "outputId": "51aa6828-9a6a-4c6d-d02b-e6b935ad6b01"
      },
      "source": [
        "#FIT MODEL\n",
        "print(len(train_batches))\n",
        "print(len(valid_batches))\n",
        "\n",
        "STEP_SIZE_TRAIN=train_batches.n//train_batches.batch_size\n",
        "STEP_SIZE_VALID=valid_batches.n//valid_batches.batch_size\n",
        "\n",
        "result=model.fit_generator(train_batches,\n",
        "                        steps_per_epoch =STEP_SIZE_TRAIN,\n",
        "                        validation_data = valid_batches,\n",
        "                        validation_steps = STEP_SIZE_VALID,\n",
        "                        epochs= NUM_EPOCHS,                        \n",
        "                       )\n",
        "\n"
      ],
      "execution_count": 11,
      "outputs": [
        {
          "output_type": "stream",
          "name": "stdout",
          "text": [
            "112\n",
            "28\n"
          ]
        },
        {
          "output_type": "stream",
          "name": "stderr",
          "text": [
            "<ipython-input-11-378e3394e2b9>:8: UserWarning: `Model.fit_generator` is deprecated and will be removed in a future version. Please use `Model.fit`, which supports generators.\n",
            "  result=model.fit_generator(train_batches,\n",
            "/usr/local/lib/python3.9/dist-packages/keras/preprocessing/image.py:1861: UserWarning: This ImageDataGenerator specifies `featurewise_center`, but it hasn't been fit on any training data. Fit it first by calling `.fit(numpy_data)`.\n",
            "  warnings.warn(\n",
            "/usr/local/lib/python3.9/dist-packages/keras/preprocessing/image.py:1884: UserWarning: This ImageDataGenerator specifies `zca_whitening`, but it hasn't been fit on any training data. Fit it first by calling `.fit(numpy_data)`.\n",
            "  warnings.warn(\n"
          ]
        },
        {
          "output_type": "stream",
          "name": "stdout",
          "text": [
            "Epoch 1/80\n",
            "111/111 [==============================] - 332s 3s/step - loss: 1.0289 - acc: 0.5717 - val_loss: 0.8439 - val_acc: 0.6926\n",
            "Epoch 2/80\n",
            "111/111 [==============================] - 42s 375ms/step - loss: 0.6543 - acc: 0.7529 - val_loss: 0.5628 - val_acc: 0.7519\n",
            "Epoch 3/80\n",
            "111/111 [==============================] - 42s 376ms/step - loss: 0.5460 - acc: 0.7845 - val_loss: 0.6305 - val_acc: 0.7593\n",
            "Epoch 4/80\n",
            "111/111 [==============================] - 43s 385ms/step - loss: 0.4770 - acc: 0.8197 - val_loss: 0.6971 - val_acc: 0.7778\n",
            "Epoch 5/80\n",
            "111/111 [==============================] - 39s 356ms/step - loss: 0.4669 - acc: 0.8151 - val_loss: 0.5834 - val_acc: 0.8037\n",
            "Epoch 6/80\n",
            "111/111 [==============================] - 42s 379ms/step - loss: 0.4387 - acc: 0.8548 - val_loss: 0.5261 - val_acc: 0.8370\n",
            "Epoch 7/80\n",
            "111/111 [==============================] - 43s 390ms/step - loss: 0.4223 - acc: 0.8350 - val_loss: 0.4602 - val_acc: 0.8667\n",
            "Epoch 8/80\n",
            "111/111 [==============================] - 39s 353ms/step - loss: 0.3559 - acc: 0.8665 - val_loss: 0.5784 - val_acc: 0.8185\n",
            "Epoch 9/80\n",
            "111/111 [==============================] - 40s 359ms/step - loss: 0.3797 - acc: 0.8548 - val_loss: 0.4934 - val_acc: 0.8519\n",
            "Epoch 10/80\n",
            "111/111 [==============================] - 44s 393ms/step - loss: 0.3337 - acc: 0.8801 - val_loss: 0.4804 - val_acc: 0.8556\n",
            "Epoch 11/80\n",
            "111/111 [==============================] - 43s 383ms/step - loss: 0.3329 - acc: 0.8738 - val_loss: 0.4610 - val_acc: 0.8333\n",
            "Epoch 12/80\n",
            "111/111 [==============================] - 42s 377ms/step - loss: 0.3292 - acc: 0.8756 - val_loss: 0.3877 - val_acc: 0.8556\n",
            "Epoch 13/80\n",
            "111/111 [==============================] - 42s 382ms/step - loss: 0.3123 - acc: 0.8683 - val_loss: 0.5323 - val_acc: 0.8704\n",
            "Epoch 14/80\n",
            "111/111 [==============================] - 42s 378ms/step - loss: 0.3195 - acc: 0.8909 - val_loss: 0.4557 - val_acc: 0.8370\n",
            "Epoch 15/80\n",
            "111/111 [==============================] - 41s 373ms/step - loss: 0.2923 - acc: 0.8945 - val_loss: 0.6838 - val_acc: 0.8370\n",
            "Epoch 16/80\n",
            "111/111 [==============================] - 39s 349ms/step - loss: 0.3045 - acc: 0.8882 - val_loss: 0.4210 - val_acc: 0.8630\n",
            "Epoch 17/80\n",
            "111/111 [==============================] - 39s 347ms/step - loss: 0.2751 - acc: 0.9026 - val_loss: 0.5264 - val_acc: 0.8481\n",
            "Epoch 18/80\n",
            "111/111 [==============================] - 41s 371ms/step - loss: 0.2528 - acc: 0.9026 - val_loss: 0.3761 - val_acc: 0.8926\n",
            "Epoch 19/80\n",
            "111/111 [==============================] - 39s 347ms/step - loss: 0.2292 - acc: 0.9225 - val_loss: 0.3878 - val_acc: 0.8593\n",
            "Epoch 20/80\n",
            "111/111 [==============================] - 43s 383ms/step - loss: 0.2209 - acc: 0.9188 - val_loss: 0.5028 - val_acc: 0.8593\n",
            "Epoch 21/80\n",
            "111/111 [==============================] - 41s 370ms/step - loss: 0.2474 - acc: 0.8972 - val_loss: 0.3687 - val_acc: 0.8926\n",
            "Epoch 22/80\n",
            "111/111 [==============================] - 42s 375ms/step - loss: 0.2613 - acc: 0.9035 - val_loss: 0.3734 - val_acc: 0.8852\n",
            "Epoch 23/80\n",
            "111/111 [==============================] - 37s 333ms/step - loss: 0.2127 - acc: 0.9216 - val_loss: 0.4449 - val_acc: 0.8926\n",
            "Epoch 24/80\n",
            "111/111 [==============================] - 38s 341ms/step - loss: 0.1914 - acc: 0.9234 - val_loss: 0.5176 - val_acc: 0.8630\n",
            "Epoch 25/80\n",
            "111/111 [==============================] - 41s 373ms/step - loss: 0.2160 - acc: 0.9125 - val_loss: 0.4094 - val_acc: 0.8963\n",
            "Epoch 26/80\n",
            "111/111 [==============================] - 39s 348ms/step - loss: 0.2088 - acc: 0.9288 - val_loss: 0.3024 - val_acc: 0.8852\n",
            "Epoch 27/80\n",
            "111/111 [==============================] - 39s 352ms/step - loss: 0.1694 - acc: 0.9369 - val_loss: 0.3675 - val_acc: 0.8926\n",
            "Epoch 28/80\n",
            "111/111 [==============================] - 39s 352ms/step - loss: 0.2222 - acc: 0.9125 - val_loss: 0.3770 - val_acc: 0.8926\n",
            "Epoch 29/80\n",
            "111/111 [==============================] - 42s 379ms/step - loss: 0.2139 - acc: 0.9252 - val_loss: 0.3870 - val_acc: 0.8889\n",
            "Epoch 30/80\n",
            "111/111 [==============================] - 41s 370ms/step - loss: 0.1925 - acc: 0.9279 - val_loss: 0.3916 - val_acc: 0.8778\n",
            "Epoch 31/80\n",
            "111/111 [==============================] - 43s 391ms/step - loss: 0.1795 - acc: 0.9324 - val_loss: 0.4486 - val_acc: 0.8926\n",
            "Epoch 32/80\n",
            "111/111 [==============================] - 43s 384ms/step - loss: 0.1962 - acc: 0.9216 - val_loss: 0.3595 - val_acc: 0.8815\n",
            "Epoch 33/80\n",
            "111/111 [==============================] - 42s 380ms/step - loss: 0.1516 - acc: 0.9414 - val_loss: 0.4456 - val_acc: 0.8889\n",
            "Epoch 34/80\n",
            "111/111 [==============================] - 39s 354ms/step - loss: 0.2042 - acc: 0.9324 - val_loss: 0.3852 - val_acc: 0.8741\n",
            "Epoch 35/80\n",
            "111/111 [==============================] - 40s 356ms/step - loss: 0.1731 - acc: 0.9396 - val_loss: 0.3827 - val_acc: 0.8852\n",
            "Epoch 36/80\n",
            "111/111 [==============================] - 39s 354ms/step - loss: 0.1533 - acc: 0.9459 - val_loss: 0.5169 - val_acc: 0.8593\n",
            "Epoch 37/80\n",
            "111/111 [==============================] - 40s 355ms/step - loss: 0.1522 - acc: 0.9468 - val_loss: 0.4737 - val_acc: 0.8704\n",
            "Epoch 38/80\n",
            "111/111 [==============================] - 39s 351ms/step - loss: 0.1547 - acc: 0.9477 - val_loss: 0.3172 - val_acc: 0.9000\n",
            "Epoch 39/80\n",
            "111/111 [==============================] - 39s 355ms/step - loss: 0.1635 - acc: 0.9468 - val_loss: 0.3291 - val_acc: 0.9000\n",
            "Epoch 40/80\n",
            "111/111 [==============================] - 43s 383ms/step - loss: 0.1406 - acc: 0.9513 - val_loss: 0.3333 - val_acc: 0.8926\n",
            "Epoch 41/80\n",
            "111/111 [==============================] - 39s 355ms/step - loss: 0.1583 - acc: 0.9477 - val_loss: 0.3458 - val_acc: 0.9074\n",
            "Epoch 42/80\n",
            "111/111 [==============================] - 43s 385ms/step - loss: 0.1420 - acc: 0.9459 - val_loss: 0.3799 - val_acc: 0.8778\n",
            "Epoch 43/80\n",
            "111/111 [==============================] - 42s 383ms/step - loss: 0.0857 - acc: 0.9657 - val_loss: 0.6655 - val_acc: 0.8815\n",
            "Epoch 44/80\n",
            "111/111 [==============================] - 38s 346ms/step - loss: 0.1614 - acc: 0.9504 - val_loss: 0.4767 - val_acc: 0.8926\n",
            "Epoch 45/80\n",
            "111/111 [==============================] - 43s 387ms/step - loss: 0.1363 - acc: 0.9576 - val_loss: 0.4733 - val_acc: 0.8889\n",
            "Epoch 46/80\n",
            "111/111 [==============================] - 39s 350ms/step - loss: 0.1543 - acc: 0.9531 - val_loss: 0.4655 - val_acc: 0.8926\n",
            "Epoch 47/80\n",
            "111/111 [==============================] - 39s 352ms/step - loss: 0.1097 - acc: 0.9612 - val_loss: 0.8871 - val_acc: 0.8593\n",
            "Epoch 48/80\n",
            "111/111 [==============================] - 42s 377ms/step - loss: 0.1081 - acc: 0.9657 - val_loss: 0.4838 - val_acc: 0.8667\n",
            "Epoch 49/80\n",
            "111/111 [==============================] - 42s 376ms/step - loss: 0.1303 - acc: 0.9549 - val_loss: 0.3673 - val_acc: 0.9074\n",
            "Epoch 50/80\n",
            "111/111 [==============================] - 39s 348ms/step - loss: 0.1204 - acc: 0.9567 - val_loss: 0.5172 - val_acc: 0.8704\n",
            "Epoch 51/80\n",
            "111/111 [==============================] - 41s 372ms/step - loss: 0.0844 - acc: 0.9657 - val_loss: 0.5484 - val_acc: 0.8815\n",
            "Epoch 52/80\n",
            "111/111 [==============================] - 42s 372ms/step - loss: 0.1015 - acc: 0.9702 - val_loss: 0.4760 - val_acc: 0.8963\n",
            "Epoch 53/80\n",
            "111/111 [==============================] - 38s 343ms/step - loss: 0.1046 - acc: 0.9603 - val_loss: 0.5141 - val_acc: 0.8815\n",
            "Epoch 54/80\n",
            "111/111 [==============================] - 38s 339ms/step - loss: 0.1049 - acc: 0.9639 - val_loss: 0.4237 - val_acc: 0.9222\n",
            "Epoch 55/80\n",
            "111/111 [==============================] - 42s 380ms/step - loss: 0.0902 - acc: 0.9657 - val_loss: 0.5607 - val_acc: 0.9037\n",
            "Epoch 56/80\n",
            "111/111 [==============================] - 41s 373ms/step - loss: 0.1226 - acc: 0.9594 - val_loss: 0.4502 - val_acc: 0.8704\n",
            "Epoch 57/80\n",
            "111/111 [==============================] - 42s 382ms/step - loss: 0.0953 - acc: 0.9693 - val_loss: 0.4879 - val_acc: 0.8741\n",
            "Epoch 58/80\n",
            "111/111 [==============================] - 42s 379ms/step - loss: 0.0909 - acc: 0.9711 - val_loss: 0.3822 - val_acc: 0.8963\n",
            "Epoch 59/80\n",
            "111/111 [==============================] - 41s 371ms/step - loss: 0.0941 - acc: 0.9648 - val_loss: 0.4376 - val_acc: 0.8667\n",
            "Epoch 60/80\n",
            "111/111 [==============================] - 39s 348ms/step - loss: 0.1014 - acc: 0.9603 - val_loss: 0.4222 - val_acc: 0.9037\n",
            "Epoch 61/80\n",
            "111/111 [==============================] - 39s 347ms/step - loss: 0.1006 - acc: 0.9720 - val_loss: 0.5784 - val_acc: 0.8852\n",
            "Epoch 62/80\n",
            "111/111 [==============================] - 42s 378ms/step - loss: 0.0831 - acc: 0.9757 - val_loss: 0.6134 - val_acc: 0.8741\n",
            "Epoch 63/80\n",
            "111/111 [==============================] - 39s 354ms/step - loss: 0.0989 - acc: 0.9648 - val_loss: 0.6306 - val_acc: 0.8852\n",
            "Epoch 64/80\n",
            "111/111 [==============================] - 43s 388ms/step - loss: 0.0826 - acc: 0.9657 - val_loss: 0.4978 - val_acc: 0.8852\n",
            "Epoch 65/80\n",
            "111/111 [==============================] - 43s 388ms/step - loss: 0.0608 - acc: 0.9757 - val_loss: 0.4696 - val_acc: 0.8778\n",
            "Epoch 66/80\n",
            "111/111 [==============================] - 42s 375ms/step - loss: 0.0892 - acc: 0.9684 - val_loss: 0.7389 - val_acc: 0.8519\n",
            "Epoch 67/80\n",
            "111/111 [==============================] - 39s 349ms/step - loss: 0.0971 - acc: 0.9666 - val_loss: 0.4746 - val_acc: 0.8889\n",
            "Epoch 68/80\n",
            "111/111 [==============================] - 42s 381ms/step - loss: 0.0829 - acc: 0.9711 - val_loss: 0.4621 - val_acc: 0.8741\n",
            "Epoch 69/80\n",
            "111/111 [==============================] - 43s 383ms/step - loss: 0.0926 - acc: 0.9711 - val_loss: 0.8546 - val_acc: 0.8704\n",
            "Epoch 70/80\n",
            "111/111 [==============================] - 43s 389ms/step - loss: 0.0801 - acc: 0.9720 - val_loss: 0.7395 - val_acc: 0.8741\n",
            "Epoch 71/80\n",
            "111/111 [==============================] - 42s 379ms/step - loss: 0.0956 - acc: 0.9702 - val_loss: 0.4266 - val_acc: 0.8926\n",
            "Epoch 72/80\n",
            "111/111 [==============================] - 42s 379ms/step - loss: 0.0872 - acc: 0.9648 - val_loss: 0.5259 - val_acc: 0.8630\n",
            "Epoch 73/80\n",
            "111/111 [==============================] - 39s 355ms/step - loss: 0.0738 - acc: 0.9748 - val_loss: 0.6186 - val_acc: 0.8667\n",
            "Epoch 74/80\n",
            "111/111 [==============================] - 43s 389ms/step - loss: 0.0743 - acc: 0.9729 - val_loss: 0.5294 - val_acc: 0.8963\n",
            "Epoch 75/80\n",
            "111/111 [==============================] - 39s 347ms/step - loss: 0.0571 - acc: 0.9766 - val_loss: 0.5324 - val_acc: 0.8704\n",
            "Epoch 76/80\n",
            "111/111 [==============================] - 43s 385ms/step - loss: 0.0606 - acc: 0.9775 - val_loss: 0.7497 - val_acc: 0.8778\n",
            "Epoch 77/80\n",
            "111/111 [==============================] - 39s 352ms/step - loss: 0.0628 - acc: 0.9775 - val_loss: 0.5156 - val_acc: 0.8963\n",
            "Epoch 78/80\n",
            "111/111 [==============================] - 42s 379ms/step - loss: 0.0576 - acc: 0.9784 - val_loss: 0.6784 - val_acc: 0.8778\n",
            "Epoch 79/80\n",
            "111/111 [==============================] - 43s 387ms/step - loss: 0.0891 - acc: 0.9757 - val_loss: 0.6062 - val_acc: 0.8963\n",
            "Epoch 80/80\n",
            "111/111 [==============================] - 41s 374ms/step - loss: 0.0504 - acc: 0.9784 - val_loss: 0.6905 - val_acc: 0.8778\n"
          ]
        }
      ]
    },
    {
      "cell_type": "code",
      "source": [
        "#saving the trained model\n",
        "model.save('/content/drive/MyDrive/Colab_Notebooks/covid_19/covid_trained_model.h5')"
      ],
      "metadata": {
        "id": "bH383Zg6wdqD"
      },
      "execution_count": 13,
      "outputs": []
    },
    {
      "cell_type": "markdown",
      "metadata": {
        "id": "89ZEQXk50A9-"
      },
      "source": [
        "Evaluation"
      ]
    },
    {
      "cell_type": "code",
      "metadata": {
        "id": "tNIFRzOvp1yA",
        "colab": {
          "base_uri": "https://localhost:8080/",
          "height": 337
        },
        "outputId": "586bc9c9-4589-43dc-ba93-0f0dcf3a8b1d"
      },
      "source": [
        "#Plot the accuracy and loss graphs\n",
        "\n",
        "import matplotlib.pyplot as plt\n",
        "\n",
        "\n",
        "def plot_acc_loss(result, epochs):\n",
        "    acc = result.history['acc']\n",
        "    loss = result.history['loss']\n",
        "    val_acc = result.history['val_acc']\n",
        "    val_loss = result.history['val_loss']\n",
        "    plt.figure(figsize=(15, 5))\n",
        "    plt.subplot(121)\n",
        "    plt.plot(range(1,epochs), acc[1:], label='Train_acc')\n",
        "    plt.plot(range(1,epochs), val_acc[1:], label='Val_acc')\n",
        "    plt.title('Accuracy over ' + str(epochs) + ' Epochs', size=15)\n",
        "    plt.legend()\n",
        "    plt.grid(True)\n",
        "    plt.subplot(122)\n",
        "    plt.plot(range(1,epochs), loss[1:], label='Train_loss')\n",
        "    plt.plot(range(1,epochs), val_loss[1:], label='Val_loss')\n",
        "    plt.title('Loss over ' + str(epochs) + ' Epochs', size=15)\n",
        "    plt.legend()\n",
        "    plt.grid(True)\n",
        "    plt.show()\n",
        "    \n",
        "plot_acc_loss(result, 80)"
      ],
      "execution_count": 12,
      "outputs": [
        {
          "output_type": "display_data",
          "data": {
            "text/plain": [
              "<Figure size 1080x360 with 2 Axes>"
            ],
            "image/png": "[encoded data removed]"
          },
          "metadata": {
            "needs_background": "light"
          }
        }
      ]
    },
    {
      "cell_type": "code",
      "metadata": {
        "id": "g1W_MvpGJ39q"
      },
      "source": [
        "#Save the trained model and copy to drive\n",
        "\n",
        "model.save('4-class-Covid19-Mod-Xception.h5')\n",
        "#!cp /content/\"4-class-Covid19-Mod-Xception.h5\" /content/drive/\"My Drive\"/\"Colab Notebooks\"\n"
      ],
      "execution_count": null,
      "outputs": []
    },
    {
      "cell_type": "markdown",
      "metadata": {
        "id": "5X6TGa0N-5R0"
      },
      "source": [
        "**Evaluate using evaluate Generator**"
      ]
    },
    {
      "cell_type": "code",
      "metadata": {
        "id": "B1Qqa6YG-6kB",
        "outputId": "919bd0b9-7bc8-4308-c433-7735569d3927",
        "colab": {
          "base_uri": "https://localhost:8080/",
          "height": 35
        }
      },
      "source": [
        "# Create evaluate data generator from test set\n",
        "#Dont forget shuffle false\n",
        "\n",
        "test_datagen = ImageDataGenerator(rescale=1. / 255)\n",
        "test_dir =  '/content/COVID-19 Radiography Database'\n",
        "eval_generator = test_datagen.flow_from_directory(test_dir,target_size=IMAGE_SIZE,batch_size=1, \n",
        "                                                  shuffle=False, seed=42, class_mode=\"categorical\")\n",
        "eval_generator.reset()    \n"
      ],
      "execution_count": null,
      "outputs": [
        {
          "output_type": "stream",
          "text": [
            "Found 2905 images belonging to 4 classes.\n"
          ],
          "name": "stdout"
        }
      ]
    },
    {
      "cell_type": "code",
      "metadata": {
        "id": "OruQrAjTAbly"
      },
      "source": [
        "#Evalute the trained model on evaluate generator\n",
        "eval_generator.reset()  \n",
        "x = model.evaluate_generator(eval_generator,\n",
        "                           steps = np.ceil(len(eval_generator)), \n",
        "                           use_multiprocessing = False,\n",
        "                           verbose = 1,\n",
        "                           workers=1,\n",
        "                           )\n",
        "\n",
        "\n",
        "print('Test loss:' , x[0])\n",
        "print('Test accuracy:',x[1])\n",
        "\n",
        "#Poor test accuracy due to the small dataset size"
      ],
      "execution_count": null,
      "outputs": []
    },
    {
      "cell_type": "markdown",
      "metadata": {
        "id": "mqqVSc_tcvGS"
      },
      "source": [
        "**Create DataGen on single folder/class and predict !**"
      ]
    },
    {
      "cell_type": "code",
      "metadata": {
        "id": "xarJHwEpcsZQ"
      },
      "source": [
        "IMAGE_SIZE    = (150, 150)\n",
        "test_datagen = ImageDataGenerator(rescale=1. / 255)\n",
        "test_dir =  '/content/COVID-19 Radiography Database'\n",
        "pred_generator = test_datagen.flow_from_directory(\n",
        "        test_dir,target_size=IMAGE_SIZE,\n",
        "        batch_size=1,\n",
        "        shuffle=False,\n",
        "        \n",
        "        seed=42,\n",
        "        \n",
        "        class_mode=\"categorical\")\n",
        "pred_generator.reset()   \n",
        "\n",
        "count=[0,0,0,0]\n",
        "\n",
        "files=pred_generator.filenames\n",
        "\n",
        "for i in range(len(files)):\n",
        "  x,y = pred_generator.next()\n",
        "  img = x\n",
        "  predict=model.predict(img)\n",
        "  \n",
        "  p=np.argmax(predict, axis=-1)\n",
        "  print(str(p[0])+\" \"+files[pred_generator.batch_index-1])\n",
        "  #print(predict)\n",
        "  #p=model.predict_classes(img)\n",
        "  count[p[0]]+=1\n",
        "  \n",
        "#print(str(p[0])+\" \"+files[i]) \n",
        "print(count)\n",
        "  \n"
      ],
      "execution_count": null,
      "outputs": []
    },
    {
      "cell_type": "markdown",
      "metadata": {
        "id": "8OXyHsp_9DVT"
      },
      "source": [
        "### **`Predict Results using predict generator and evaluate the accuracy and Confusion matrix `**"
      ]
    },
    {
      "cell_type": "code",
      "metadata": {
        "id": "fHiC3ceg3Fip"
      },
      "source": [
        "from sklearn.metrics import confusion_matrix\n",
        "from sklearn.metrics import plot_confusion_matrix\n",
        "from sklearn.metrics import classification_report\n",
        "\n",
        "\n",
        "\n",
        "filenames = eval_generator.filenames\n",
        "nb_samples = len(filenames)\n",
        "eval_generator.reset()  \n",
        "predict = model.predict_generator(eval_generator,steps = np.ceil(len(eval_generator)))\n",
        "pp=predict\n",
        "predict=np.argmax(predict, axis=-1)\n",
        "classes= eval_generator.classes[eval_generator.index_array]\n",
        "acc=sum(predict==classes)/len(predict)\n",
        "names=[\"covid\",\"normal\",\"pneumonia_bac\",\"pneumonia_vir\"]\n",
        "#print(confusion_matrix(classes,predict))\n",
        "\n",
        "font = {\n",
        "'family': 'Times New Roman',\n",
        "'size': 12\n",
        "}\n",
        "plt.rc('font', **font)\n",
        "cm = confusion_matrix(classes, predict)\n",
        "print(cm)\n",
        "print(classification_report(classes,predict))\n",
        "plt.imshow(cm, cmap=plt.cm.Blues)\n",
        "plt.xlabel('Predicted labels \\nAccuracy: {:0.2f}'.format(acc*100))\n",
        "plt.ylabel(\"True labels\")\n",
        "plt.xticks(classes, [])\n",
        "plt.yticks(classes, [])\n",
        "plt.title('Confusion matrix ')\n",
        "plt.colorbar()\n",
        "plt.show()"
      ],
      "execution_count": null,
      "outputs": []
    },
    {
      "cell_type": "markdown",
      "metadata": {
        "id": "5PmL7DzI8XW9"
      },
      "source": [
        "**Test Single image**"
      ]
    },
    {
      "cell_type": "code",
      "metadata": {
        "id": "vB_r27-W89cw",
        "outputId": "71434e50-916f-4b13-d123-4ec549ea5846",
        "colab": {
          "base_uri": "https://localhost:8080/",
          "height": 350
        }
      },
      "source": [
        "import cv2\n",
        "from skimage import transform\n",
        "\n",
        "img_r = cv2.imread('/content/test/x.jpg')\n",
        "\n",
        "\n",
        "img1 = np.array(img_r).astype('float32')/255\n",
        "img2 = transform.resize(img1, (150, 150, 3))\n",
        "\n",
        "img = np.expand_dims(img2, axis=0)\n",
        "\n",
        "r=model.predict(img)\n",
        "\n",
        "names= dict((v,k) for k,v in labels.items())\n",
        "index = np.argmax(r)\n",
        "name=names.get(index,\"Unknown\")\n",
        "\n",
        "p=round(r.max()*100, 3)  #to find maximum score\n",
        "\n",
        "scores=r\n",
        "print(scores)\n",
        "\n",
        "font = {\n",
        "'family': 'Times New Roman',\n",
        "'size': 9,\n",
        "\n",
        "}\n",
        "plt.rc('font', **font)\n",
        "\n",
        "#plt.title(name +\" (\"+ str(p)+\")\")\n",
        "plt.title(names[0] +\" \"+ str(round(scores[0][0]*100,1))+\"%\"+\"\\n\"+names[1] +\" \"+ str(round(scores[0][1]*100,1))+\"%\"+\"\\n\"+names[2] +\" \"+ str(round(scores[0][2]*100,1))+\"%\"+\"\\n\"+names[3] +\" \"+ str(round(scores[0][3]*100,1))+\"%\")\n",
        "\n",
        "plt.imshow(img2) \n"
      ],
      "execution_count": null,
      "outputs": [
        {
          "output_type": "stream",
          "text": [
            "[[1. 0. 0. 0.]]\n"
          ],
          "name": "stdout"
        },
        {
          "output_type": "execute_result",
          "data": {
            "text/plain": [
              "<matplotlib.image.AxesImage at 0x7f0e18178a58>"
            ]
          },
          "metadata": {
            "tags": []
          },
          "execution_count": 49
        },
        {
          "output_type": "display_data",
          "data": {
            "image/png": "[encoded data removed]",
            "text/plain": [
              "<Figure size 432x288 with 1 Axes>"
            ]
          },
          "metadata": {
            "tags": [],
            "needs_background": "light"
          }
        }
      ]
    },
    {
      "cell_type": "markdown",
      "metadata": {
        "id": "uGl3vuuoPUjZ"
      },
      "source": [
        "**Test Whole Folder**"
      ]
    },
    {
      "cell_type": "code",
      "metadata": {
        "id": "Y-NOuylbpJ_5"
      },
      "source": [
        "import cv2\n",
        "from skimage import transform\n",
        "\n",
        "count=[0,0,0,0]\n",
        "folder_name = \"/content/drive/My Drive/Datasets/covid-19/covidnew/covid\"\n",
        "files=os.listdir(folder_name)\n",
        "for i in range(len(files)):\n",
        "  img_r = cv2.imread(folder_name+\"/\"+files[i])\n",
        "\n",
        "  img = np.array(img_r).astype('float32')/255\n",
        "\n",
        "  img = transform.resize(img, (150, 150, 3))\n",
        "  img = np.expand_dims(img, axis=0)\n",
        "  \n",
        "  predict=model.predict(img)\n",
        "  p=np.argmax(predict, axis=-1)\n",
        "  #p=model.predict_classes(img)\n",
        "  count[p[0]]+=1\n",
        "  print(str(p[0])+\" \"+files[i]) \n",
        "  \n",
        "  print()\n",
        "  \n",
        "  \n",
        "print(count)"
      ],
      "execution_count": null,
      "outputs": []
    },
    {
      "cell_type": "code",
      "metadata": {
        "id": "RlVURzpeBjoA"
      },
      "source": [],
      "execution_count": null,
      "outputs": []
    }
  ]
}